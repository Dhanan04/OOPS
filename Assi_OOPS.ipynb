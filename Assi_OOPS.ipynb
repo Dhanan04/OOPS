{
 "cells": [
  {
   "cell_type": "markdown",
   "id": "eea86880",
   "metadata": {},
   "source": [
    "#Ans1.) \n",
    "\n",
    "Class and Object in Object-Oriented Programming (OOP):\n",
    "\n",
    "Class: A class is a blueprint or template for creating objects. It defines the properties (attributes) and behaviors (methods) that objects of the class will have. In other words, a class encapsulates data for the object and defines how the object behaves.\n",
    "\n",
    "Object: An object is an instance of a class. It represents a specific entity based on the class blueprint, with its own set of attributes and behaviors. Objects are created from classes and can interact with each other and the program."
   ]
  },
  {
   "cell_type": "code",
   "execution_count": 1,
   "id": "bf45992a",
   "metadata": {},
   "outputs": [
    {
     "name": "stdout",
     "output_type": "stream",
     "text": [
      "Brand: Toyota, Model: Corolla, Color: Red\n",
      "Brand: Honda, Model: Civic, Color: Blue\n"
     ]
    }
   ],
   "source": [
    "# Define a class called \"Car\"\n",
    "class Car:\n",
    "    # Constructor method to initialize attributes\n",
    "    def __init__(self, brand, model, color):\n",
    "        self.brand = brand\n",
    "        self.model = model\n",
    "        self.color = color\n",
    "\n",
    "    # Method to display car details\n",
    "    def display_details(self):\n",
    "        print(f\"Brand: {self.brand}, Model: {self.model}, Color: {self.color}\")\n",
    "\n",
    "# Create objects of the class \"Car\"\n",
    "car1 = Car(\"Toyota\", \"Corolla\", \"Red\")\n",
    "car2 = Car(\"Honda\", \"Civic\", \"Blue\")\n",
    "\n",
    "# Call method to display car details\n",
    "car1.display_details()\n",
    "car2.display_details()\n"
   ]
  },
  {
   "cell_type": "code",
   "execution_count": null,
   "id": "8b4881a1",
   "metadata": {},
   "outputs": [],
   "source": []
  },
  {
   "cell_type": "markdown",
   "id": "bbbc77e9",
   "metadata": {},
   "source": [
    "#Ans2.) \n",
    "\n",
    "Four Pillars of OOPs:\n",
    "\n",
    "Encapsulation: Encapsulation is the bundling of data and methods that operate on the data into a single unit (class). It hides the internal state of the object and restricts access to the data only through well-defined methods.\n",
    "\n",
    "Abstraction: Abstraction refers to the concept of hiding the complex implementation details and showing only the necessary features of an object to the outside world. It allows users to interact with objects without needing to know how they are implemented internally.\n",
    "\n",
    "Inheritance: Inheritance is the mechanism by which a class can inherit properties and behaviors (attributes and methods) from another class. It promotes code reusability and allows the creation of hierarchical relationships between classes.\n",
    "\n",
    "Polymorphism: Polymorphism allows objects of different classes to be treated as objects of a common superclass. It enables methods to behave differently based on the object they are called on, leading to code flexibility and modularity."
   ]
  },
  {
   "cell_type": "code",
   "execution_count": null,
   "id": "b8cfb51a",
   "metadata": {},
   "outputs": [],
   "source": []
  },
  {
   "cell_type": "markdown",
   "id": "44d34404",
   "metadata": {},
   "source": [
    "#Ans3.) \n",
    "\n",
    "The __init__() function is a special method (also known as a constructor) used in Python classes to initialize the object's attributes when the object is created.\n",
    "\n",
    "It is called automatically when a new object of the class is instantiated.\n",
    "\n",
    "The __init__() function is used to set initial values for the object's attributes, ensuring that every object created from the class starts with a defined state.\n",
    "\n"
   ]
  },
  {
   "cell_type": "code",
   "execution_count": 3,
   "id": "da78579e",
   "metadata": {},
   "outputs": [],
   "source": [
    "#Example\n",
    "\n",
    "class Person:\n",
    "    # Constructor method to initialize attributes\n",
    "    def __init__(self, name, age):\n",
    "        self.name = name\n",
    "        self.age = age\n",
    "\n",
    "# Create an object of the class \"Person\"\n",
    "person1 = Person(\"John\", 30)\n"
   ]
  },
  {
   "cell_type": "code",
   "execution_count": null,
   "id": "c984f685",
   "metadata": {},
   "outputs": [],
   "source": []
  },
  {
   "cell_type": "markdown",
   "id": "d978141f",
   "metadata": {},
   "source": [
    "#Ans4.) \n",
    "\n",
    "In Python, self is a reference to the current instance of the class, which is passed as the first parameter to the methods of the class. It allows methods to access and modify the attributes of the object to which they belong. When calling methods on objects, Python automatically passes the object itself as the first argument, so you don't need to explicitly pass the object.\n",
    "Using self, you can differentiate between instance variables (belonging to the object) and local variables (local to the method)"
   ]
  },
  {
   "cell_type": "code",
   "execution_count": null,
   "id": "a7e922ff",
   "metadata": {},
   "outputs": [],
   "source": []
  },
  {
   "cell_type": "markdown",
   "id": "2a133748",
   "metadata": {},
   "source": [
    "#Ans5.) \n",
    "\n",
    "Inheritance is a fundamental feature of OOP that allows a class (subclass) to inherit properties and behaviors (attributes and methods) from another class (superclass). It promotes code reuse and establishes an \"is-a\" relationship between classes.\n",
    "\n",
    "There are different types of inheritance:\n",
    "Single Inheritance: A subclass inherits from only one superclass.\n",
    "Multiple Inheritance: A subclass inherits from multiple superclasses.\n",
    "Multilevel Inheritance: A subclass inherits from a superclass, and another subclass inherits from the subclass, forming a chain of inheritance.\n",
    "Hierarchical Inheritance: Multiple subclasses inherit from the same superclass."
   ]
  },
  {
   "cell_type": "code",
   "execution_count": 4,
   "id": "83e633dc",
   "metadata": {},
   "outputs": [
    {
     "name": "stdout",
     "output_type": "stream",
     "text": [
      "Woof\n",
      "Meow\n"
     ]
    }
   ],
   "source": [
    "# Example\n",
    "\n",
    "# Parent class\n",
    "class Animal:\n",
    "    def sound(self):\n",
    "        pass\n",
    "\n",
    "# Child class inheriting from Animal\n",
    "class Dog(Animal):\n",
    "    def sound(self):\n",
    "        return \"Woof\"\n",
    "\n",
    "# Child class inheriting from Animal\n",
    "class Cat(Animal):\n",
    "    def sound(self):\n",
    "        return \"Meow\"\n",
    "\n",
    "# Create objects of the child classes\n",
    "dog = Dog()\n",
    "cat = Cat()\n",
    "\n",
    "# Call sound method on objects\n",
    "print(dog.sound())  # Output: Woof\n",
    "print(cat.sound())  # Output: Meow\n"
   ]
  },
  {
   "cell_type": "code",
   "execution_count": null,
   "id": "43357da0",
   "metadata": {},
   "outputs": [],
   "source": []
  }
 ],
 "metadata": {
  "kernelspec": {
   "display_name": "Python 3 (ipykernel)",
   "language": "python",
   "name": "python3"
  },
  "language_info": {
   "codemirror_mode": {
    "name": "ipython",
    "version": 3
   },
   "file_extension": ".py",
   "mimetype": "text/x-python",
   "name": "python",
   "nbconvert_exporter": "python",
   "pygments_lexer": "ipython3",
   "version": "3.11.4"
  }
 },
 "nbformat": 4,
 "nbformat_minor": 5
}
